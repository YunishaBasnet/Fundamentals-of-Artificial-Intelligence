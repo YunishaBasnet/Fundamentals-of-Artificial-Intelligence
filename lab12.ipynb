{
  "cells": [
    {
      "cell_type": "markdown",
      "id": "8ee0fc14-9572-45c3-85ee-70ac95060626",
      "metadata": {
        "id": "8ee0fc14-9572-45c3-85ee-70ac95060626"
      },
      "source": [
        "Q1. You are given a dataset named employee_data with columns 'Name', 'Age', 'Salary', and 'Department'. How would you select and display the names of employees who are older than 30 and work in the 'Sales' department?"
      ]
    },
    {
      "cell_type": "code",
      "execution_count": null,
      "id": "a5a2e8dd-6b95-4188-ab15-4fbfa35eb0ed",
      "metadata": {
        "id": "a5a2e8dd-6b95-4188-ab15-4fbfa35eb0ed",
        "outputId": "23160dd8-86de-424a-e1c5-0350bf3c451e",
        "tags": []
      },
      "outputs": [
        {
          "data": {
            "text/html": [
              "<div>\n",
              "<style scoped>\n",
              "    .dataframe tbody tr th:only-of-type {\n",
              "        vertical-align: middle;\n",
              "    }\n",
              "\n",
              "    .dataframe tbody tr th {\n",
              "        vertical-align: top;\n",
              "    }\n",
              "\n",
              "    .dataframe thead th {\n",
              "        text-align: right;\n",
              "    }\n",
              "</style>\n",
              "<table border=\"1\" class=\"dataframe\">\n",
              "  <thead>\n",
              "    <tr style=\"text-align: right;\">\n",
              "      <th></th>\n",
              "      <th>Name</th>\n",
              "      <th>Age</th>\n",
              "      <th>Salary</th>\n",
              "      <th>Department</th>\n",
              "    </tr>\n",
              "  </thead>\n",
              "  <tbody>\n",
              "    <tr>\n",
              "      <th>0</th>\n",
              "      <td>Alice</td>\n",
              "      <td>32</td>\n",
              "      <td>60000</td>\n",
              "      <td>Sales</td>\n",
              "    </tr>\n",
              "    <tr>\n",
              "      <th>1</th>\n",
              "      <td>Bob</td>\n",
              "      <td>28</td>\n",
              "      <td>75000</td>\n",
              "      <td>IT</td>\n",
              "    </tr>\n",
              "    <tr>\n",
              "      <th>2</th>\n",
              "      <td>Charlie</td>\n",
              "      <td>35</td>\n",
              "      <td>90000</td>\n",
              "      <td>Sales</td>\n",
              "    </tr>\n",
              "  </tbody>\n",
              "</table>\n",
              "</div>"
            ],
            "text/plain": [
              "      Name  Age  Salary Department\n",
              "0    Alice   32   60000      Sales\n",
              "1      Bob   28   75000         IT\n",
              "2  Charlie   35   90000      Sales"
            ]
          },
          "execution_count": 4,
          "metadata": {},
          "output_type": "execute_result"
        }
      ],
      "source": [
        "# Sample Data\n",
        "import pandas as pd\n",
        "\n",
        "data = {'Name': ['Alice', 'Bob', 'Charlie'],\n",
        "        'Age': [32, 28, 35],\n",
        "        'Salary': [60000, 75000, 90000],\n",
        "        'Department': ['Sales', 'IT', 'Sales']}\n",
        "\n",
        "employee_data = pd.DataFrame(data)\n",
        "employee_data\n"
      ]
    },
    {
      "cell_type": "code",
      "execution_count": null,
      "id": "49b0c9a4-d0b5-4f51-99c0-66e49f4346c3",
      "metadata": {
        "id": "49b0c9a4-d0b5-4f51-99c0-66e49f4346c3",
        "outputId": "17839e7f-d81f-4336-df08-7f7a458e4555"
      },
      "outputs": [
        {
          "data": {
            "text/html": [
              "<div>\n",
              "<style scoped>\n",
              "    .dataframe tbody tr th:only-of-type {\n",
              "        vertical-align: middle;\n",
              "    }\n",
              "\n",
              "    .dataframe tbody tr th {\n",
              "        vertical-align: top;\n",
              "    }\n",
              "\n",
              "    .dataframe thead th {\n",
              "        text-align: right;\n",
              "    }\n",
              "</style>\n",
              "<table border=\"1\" class=\"dataframe\">\n",
              "  <thead>\n",
              "    <tr style=\"text-align: right;\">\n",
              "      <th></th>\n",
              "      <th>Name</th>\n",
              "      <th>Age</th>\n",
              "      <th>Salary</th>\n",
              "      <th>Department</th>\n",
              "    </tr>\n",
              "  </thead>\n",
              "  <tbody>\n",
              "    <tr>\n",
              "      <th>0</th>\n",
              "      <td>Alice</td>\n",
              "      <td>32</td>\n",
              "      <td>60000</td>\n",
              "      <td>Sales</td>\n",
              "    </tr>\n",
              "    <tr>\n",
              "      <th>2</th>\n",
              "      <td>Charlie</td>\n",
              "      <td>35</td>\n",
              "      <td>90000</td>\n",
              "      <td>Sales</td>\n",
              "    </tr>\n",
              "  </tbody>\n",
              "</table>\n",
              "</div>"
            ],
            "text/plain": [
              "      Name  Age  Salary Department\n",
              "0    Alice   32   60000      Sales\n",
              "2  Charlie   35   90000      Sales"
            ]
          },
          "execution_count": 5,
          "metadata": {},
          "output_type": "execute_result"
        }
      ],
      "source": [
        "employee_data[(employee_data.Age>30) & (employee_data.Department=='Sales')]"
      ]
    },
    {
      "cell_type": "markdown",
      "id": "bb29844f-110e-468c-b25b-1717bcf6db2a",
      "metadata": {
        "id": "bb29844f-110e-468c-b25b-1717bcf6db2a"
      },
      "source": [
        "Q2. In a dataset named customer_data, there are missing values in the 'Income' column. How would you handle these missing values, and then create a new column 'Income_Category' that labels customers as 'Low', 'Medium', or 'High' income based on predefined thresholds?"
      ]
    },
    {
      "cell_type": "code",
      "execution_count": null,
      "id": "8ab060a8-a0ea-4b4b-af21-e38305028a90",
      "metadata": {
        "id": "8ab060a8-a0ea-4b4b-af21-e38305028a90",
        "outputId": "cd74a6c3-97b8-4053-9077-6a67b2e7d405",
        "tags": []
      },
      "outputs": [
        {
          "data": {
            "text/html": [
              "<div>\n",
              "<style scoped>\n",
              "    .dataframe tbody tr th:only-of-type {\n",
              "        vertical-align: middle;\n",
              "    }\n",
              "\n",
              "    .dataframe tbody tr th {\n",
              "        vertical-align: top;\n",
              "    }\n",
              "\n",
              "    .dataframe thead th {\n",
              "        text-align: right;\n",
              "    }\n",
              "</style>\n",
              "<table border=\"1\" class=\"dataframe\">\n",
              "  <thead>\n",
              "    <tr style=\"text-align: right;\">\n",
              "      <th></th>\n",
              "      <th>CustomerID</th>\n",
              "      <th>Income</th>\n",
              "    </tr>\n",
              "  </thead>\n",
              "  <tbody>\n",
              "    <tr>\n",
              "      <th>0</th>\n",
              "      <td>1</td>\n",
              "      <td>50000.0</td>\n",
              "    </tr>\n",
              "    <tr>\n",
              "      <th>1</th>\n",
              "      <td>2</td>\n",
              "      <td>NaN</td>\n",
              "    </tr>\n",
              "    <tr>\n",
              "      <th>2</th>\n",
              "      <td>3</td>\n",
              "      <td>75000.0</td>\n",
              "    </tr>\n",
              "    <tr>\n",
              "      <th>3</th>\n",
              "      <td>4</td>\n",
              "      <td>NaN</td>\n",
              "    </tr>\n",
              "  </tbody>\n",
              "</table>\n",
              "</div>"
            ],
            "text/plain": [
              "   CustomerID   Income\n",
              "0           1  50000.0\n",
              "1           2      NaN\n",
              "2           3  75000.0\n",
              "3           4      NaN"
            ]
          },
          "execution_count": 7,
          "metadata": {},
          "output_type": "execute_result"
        }
      ],
      "source": [
        "# Sample Data\n",
        "import pandas as pd\n",
        "import numpy as np\n",
        "\n",
        "data = {'CustomerID': [1, 2, 3, 4],\n",
        "        'Income': [50000, np.nan, 75000, np.nan]}\n",
        "customer_data = pd.DataFrame(data)\n",
        "customer_data\n",
        "\n"
      ]
    },
    {
      "cell_type": "code",
      "execution_count": null,
      "id": "e34c913c-80d1-434f-9d24-b48ce2de6e2f",
      "metadata": {
        "id": "e34c913c-80d1-434f-9d24-b48ce2de6e2f"
      },
      "outputs": [],
      "source": [
        "customer_data.Income.fillna(customer_data.Income.mean(), inplace=True)"
      ]
    },
    {
      "cell_type": "code",
      "execution_count": null,
      "id": "7e8b7d66",
      "metadata": {
        "id": "7e8b7d66",
        "outputId": "3ff95c8b-0ce6-4469-f8a9-da2aca472d71"
      },
      "outputs": [
        {
          "data": {
            "text/html": [
              "<div>\n",
              "<style scoped>\n",
              "    .dataframe tbody tr th:only-of-type {\n",
              "        vertical-align: middle;\n",
              "    }\n",
              "\n",
              "    .dataframe tbody tr th {\n",
              "        vertical-align: top;\n",
              "    }\n",
              "\n",
              "    .dataframe thead th {\n",
              "        text-align: right;\n",
              "    }\n",
              "</style>\n",
              "<table border=\"1\" class=\"dataframe\">\n",
              "  <thead>\n",
              "    <tr style=\"text-align: right;\">\n",
              "      <th></th>\n",
              "      <th>CustomerID</th>\n",
              "      <th>Income</th>\n",
              "    </tr>\n",
              "  </thead>\n",
              "  <tbody>\n",
              "    <tr>\n",
              "      <th>0</th>\n",
              "      <td>1</td>\n",
              "      <td>50000.0</td>\n",
              "    </tr>\n",
              "    <tr>\n",
              "      <th>1</th>\n",
              "      <td>2</td>\n",
              "      <td>62500.0</td>\n",
              "    </tr>\n",
              "    <tr>\n",
              "      <th>2</th>\n",
              "      <td>3</td>\n",
              "      <td>75000.0</td>\n",
              "    </tr>\n",
              "    <tr>\n",
              "      <th>3</th>\n",
              "      <td>4</td>\n",
              "      <td>62500.0</td>\n",
              "    </tr>\n",
              "  </tbody>\n",
              "</table>\n",
              "</div>"
            ],
            "text/plain": [
              "   CustomerID   Income\n",
              "0           1  50000.0\n",
              "1           2  62500.0\n",
              "2           3  75000.0\n",
              "3           4  62500.0"
            ]
          },
          "execution_count": 9,
          "metadata": {},
          "output_type": "execute_result"
        }
      ],
      "source": [
        "customer_data"
      ]
    },
    {
      "cell_type": "code",
      "execution_count": null,
      "id": "K9GUb4B1rv6J",
      "metadata": {
        "id": "K9GUb4B1rv6J"
      },
      "outputs": [],
      "source": [
        "def cust_class(income):\n",
        "    if income<=50000:\n",
        "        return 'Low'\n",
        "    elif (income>50000) & (income<70000):\n",
        "        return 'Medium'\n",
        "    else:\n",
        "        return 'High'"
      ]
    },
    {
      "cell_type": "code",
      "execution_count": null,
      "id": "f58ee214",
      "metadata": {
        "id": "f58ee214"
      },
      "outputs": [],
      "source": [
        "customer_data['Income_Category']= customer_data.Income.apply(cust_class)"
      ]
    },
    {
      "cell_type": "code",
      "execution_count": null,
      "id": "yA-Cu5rkrv6K",
      "metadata": {
        "id": "yA-Cu5rkrv6K",
        "outputId": "ed6099a1-435c-486d-b389-84676a090e59"
      },
      "outputs": [
        {
          "data": {
            "text/html": [
              "<div>\n",
              "<style scoped>\n",
              "    .dataframe tbody tr th:only-of-type {\n",
              "        vertical-align: middle;\n",
              "    }\n",
              "\n",
              "    .dataframe tbody tr th {\n",
              "        vertical-align: top;\n",
              "    }\n",
              "\n",
              "    .dataframe thead th {\n",
              "        text-align: right;\n",
              "    }\n",
              "</style>\n",
              "<table border=\"1\" class=\"dataframe\">\n",
              "  <thead>\n",
              "    <tr style=\"text-align: right;\">\n",
              "      <th></th>\n",
              "      <th>CustomerID</th>\n",
              "      <th>Income</th>\n",
              "      <th>Income_Category</th>\n",
              "    </tr>\n",
              "  </thead>\n",
              "  <tbody>\n",
              "    <tr>\n",
              "      <th>0</th>\n",
              "      <td>1</td>\n",
              "      <td>50000.0</td>\n",
              "      <td>Low</td>\n",
              "    </tr>\n",
              "    <tr>\n",
              "      <th>1</th>\n",
              "      <td>2</td>\n",
              "      <td>62500.0</td>\n",
              "      <td>Medium</td>\n",
              "    </tr>\n",
              "    <tr>\n",
              "      <th>2</th>\n",
              "      <td>3</td>\n",
              "      <td>75000.0</td>\n",
              "      <td>High</td>\n",
              "    </tr>\n",
              "    <tr>\n",
              "      <th>3</th>\n",
              "      <td>4</td>\n",
              "      <td>62500.0</td>\n",
              "      <td>Medium</td>\n",
              "    </tr>\n",
              "  </tbody>\n",
              "</table>\n",
              "</div>"
            ],
            "text/plain": [
              "   CustomerID   Income Income_Category\n",
              "0           1  50000.0             Low\n",
              "1           2  62500.0          Medium\n",
              "2           3  75000.0            High\n",
              "3           4  62500.0          Medium"
            ]
          },
          "execution_count": 12,
          "metadata": {},
          "output_type": "execute_result"
        }
      ],
      "source": [
        "customer_data"
      ]
    },
    {
      "cell_type": "markdown",
      "id": "470fc6a6-846c-4fc9-bb36-9b64ffb94398",
      "metadata": {
        "id": "470fc6a6-846c-4fc9-bb36-9b64ffb94398"
      },
      "source": [
        "Q3. Consider a DataFrame named order_data with columns 'Customer', 'Product', and 'Quantity'. How would you find the total quantity of each product sold, and then identify the product with the highest total sales?"
      ]
    },
    {
      "cell_type": "code",
      "execution_count": null,
      "id": "35d9032b-ce2b-47bb-8898-b2eb1a82578c",
      "metadata": {
        "id": "35d9032b-ce2b-47bb-8898-b2eb1a82578c",
        "outputId": "b1fc92b3-a304-4daf-8217-14ccbc5e4f6f",
        "tags": []
      },
      "outputs": [
        {
          "data": {
            "text/html": [
              "<div>\n",
              "<style scoped>\n",
              "    .dataframe tbody tr th:only-of-type {\n",
              "        vertical-align: middle;\n",
              "    }\n",
              "\n",
              "    .dataframe tbody tr th {\n",
              "        vertical-align: top;\n",
              "    }\n",
              "\n",
              "    .dataframe thead th {\n",
              "        text-align: right;\n",
              "    }\n",
              "</style>\n",
              "<table border=\"1\" class=\"dataframe\">\n",
              "  <thead>\n",
              "    <tr style=\"text-align: right;\">\n",
              "      <th></th>\n",
              "      <th>Customer</th>\n",
              "      <th>Product</th>\n",
              "      <th>Quantity</th>\n",
              "    </tr>\n",
              "  </thead>\n",
              "  <tbody>\n",
              "    <tr>\n",
              "      <th>0</th>\n",
              "      <td>A</td>\n",
              "      <td>X</td>\n",
              "      <td>10</td>\n",
              "    </tr>\n",
              "    <tr>\n",
              "      <th>1</th>\n",
              "      <td>B</td>\n",
              "      <td>Y</td>\n",
              "      <td>5</td>\n",
              "    </tr>\n",
              "    <tr>\n",
              "      <th>2</th>\n",
              "      <td>A</td>\n",
              "      <td>X</td>\n",
              "      <td>8</td>\n",
              "    </tr>\n",
              "    <tr>\n",
              "      <th>3</th>\n",
              "      <td>B</td>\n",
              "      <td>Y</td>\n",
              "      <td>12</td>\n",
              "    </tr>\n",
              "    <tr>\n",
              "      <th>4</th>\n",
              "      <td>A</td>\n",
              "      <td>Z</td>\n",
              "      <td>15</td>\n",
              "    </tr>\n",
              "  </tbody>\n",
              "</table>\n",
              "</div>"
            ],
            "text/plain": [
              "  Customer Product  Quantity\n",
              "0        A       X        10\n",
              "1        B       Y         5\n",
              "2        A       X         8\n",
              "3        B       Y        12\n",
              "4        A       Z        15"
            ]
          },
          "execution_count": 14,
          "metadata": {},
          "output_type": "execute_result"
        }
      ],
      "source": [
        "# Sample Data\n",
        "import pandas as pd\n",
        "\n",
        "data = {'Customer': ['A', 'B', 'A', 'B', 'A'],\n",
        "        'Product': ['X', 'Y', 'X', 'Y', 'Z'],\n",
        "        'Quantity': [10, 5, 8, 12, 15]}\n",
        "order_data = pd.DataFrame(data)\n",
        "order_data"
      ]
    },
    {
      "cell_type": "code",
      "execution_count": null,
      "id": "bdb533ac-1c61-4945-8488-f837e673c6e8",
      "metadata": {
        "id": "bdb533ac-1c61-4945-8488-f837e673c6e8",
        "outputId": "9e8aa542-74bb-4f97-9033-d9c6004b95ff"
      },
      "outputs": [
        {
          "data": {
            "text/plain": [
              "'X'"
            ]
          },
          "execution_count": 17,
          "metadata": {},
          "output_type": "execute_result"
        }
      ],
      "source": [
        "order_data.groupby('Product')['Quantity'].sum().idxmax()"
      ]
    },
    {
      "cell_type": "code",
      "execution_count": null,
      "id": "2530e8f6",
      "metadata": {
        "id": "2530e8f6"
      },
      "outputs": [],
      "source": []
    },
    {
      "cell_type": "code",
      "execution_count": null,
      "id": "eBKCa0CZrv6L",
      "metadata": {
        "id": "eBKCa0CZrv6L"
      },
      "outputs": [],
      "source": []
    },
    {
      "cell_type": "markdown",
      "id": "caa124ac-080d-4849-8f7e-3dd45bcc91a4",
      "metadata": {
        "id": "caa124ac-080d-4849-8f7e-3dd45bcc91a4"
      },
      "source": [
        "Q4. You have two DataFrames, student_info with columns 'StudentID' and 'Name', and grades_info with columns 'StudentID' and 'Grade'. How would you merge these DataFrames to obtain a single DataFrame containing both student information and their grades?"
      ]
    },
    {
      "cell_type": "code",
      "execution_count": null,
      "id": "40a06d1b-3014-47a4-b585-4999ab31de4f",
      "metadata": {
        "id": "40a06d1b-3014-47a4-b585-4999ab31de4f",
        "outputId": "7e7a2b5a-ffba-4dc9-ed0d-c787fd4e4583",
        "tags": []
      },
      "outputs": [
        {
          "data": {
            "text/html": [
              "<div>\n",
              "<style scoped>\n",
              "    .dataframe tbody tr th:only-of-type {\n",
              "        vertical-align: middle;\n",
              "    }\n",
              "\n",
              "    .dataframe tbody tr th {\n",
              "        vertical-align: top;\n",
              "    }\n",
              "\n",
              "    .dataframe thead th {\n",
              "        text-align: right;\n",
              "    }\n",
              "</style>\n",
              "<table border=\"1\" class=\"dataframe\">\n",
              "  <thead>\n",
              "    <tr style=\"text-align: right;\">\n",
              "      <th></th>\n",
              "      <th>S_ID</th>\n",
              "      <th>Grade</th>\n",
              "    </tr>\n",
              "  </thead>\n",
              "  <tbody>\n",
              "    <tr>\n",
              "      <th>0</th>\n",
              "      <td>2</td>\n",
              "      <td>85</td>\n",
              "    </tr>\n",
              "    <tr>\n",
              "      <th>1</th>\n",
              "      <td>3</td>\n",
              "      <td>90</td>\n",
              "    </tr>\n",
              "    <tr>\n",
              "      <th>2</th>\n",
              "      <td>4</td>\n",
              "      <td>78</td>\n",
              "    </tr>\n",
              "  </tbody>\n",
              "</table>\n",
              "</div>"
            ],
            "text/plain": [
              "   S_ID  Grade\n",
              "0     2     85\n",
              "1     3     90\n",
              "2     4     78"
            ]
          },
          "execution_count": 20,
          "metadata": {},
          "output_type": "execute_result"
        }
      ],
      "source": [
        "# Sample Data\n",
        "import pandas as pd\n",
        "\n",
        "student_info = pd.DataFrame({'StudentID': [1, 2, 3], 'Name': ['Alice', 'Bob', 'Charlie']})\n",
        "grades_info = pd.DataFrame({'S_ID': [2, 3, 4], 'Grade': [85, 90, 78]})\n",
        "grades_info\n"
      ]
    },
    {
      "cell_type": "code",
      "execution_count": null,
      "id": "6aa38418-66b1-4804-adf1-fedc8815f968",
      "metadata": {
        "id": "6aa38418-66b1-4804-adf1-fedc8815f968",
        "outputId": "11b3919d-1f24-4547-8593-3eeb11a9cdef"
      },
      "outputs": [
        {
          "data": {
            "text/html": [
              "<div>\n",
              "<style scoped>\n",
              "    .dataframe tbody tr th:only-of-type {\n",
              "        vertical-align: middle;\n",
              "    }\n",
              "\n",
              "    .dataframe tbody tr th {\n",
              "        vertical-align: top;\n",
              "    }\n",
              "\n",
              "    .dataframe thead th {\n",
              "        text-align: right;\n",
              "    }\n",
              "</style>\n",
              "<table border=\"1\" class=\"dataframe\">\n",
              "  <thead>\n",
              "    <tr style=\"text-align: right;\">\n",
              "      <th></th>\n",
              "      <th>StudentID</th>\n",
              "      <th>Name</th>\n",
              "      <th>S_ID</th>\n",
              "      <th>Grade</th>\n",
              "    </tr>\n",
              "  </thead>\n",
              "  <tbody>\n",
              "    <tr>\n",
              "      <th>0</th>\n",
              "      <td>1.0</td>\n",
              "      <td>Alice</td>\n",
              "      <td>NaN</td>\n",
              "      <td>NaN</td>\n",
              "    </tr>\n",
              "    <tr>\n",
              "      <th>1</th>\n",
              "      <td>2.0</td>\n",
              "      <td>Bob</td>\n",
              "      <td>2.0</td>\n",
              "      <td>85.0</td>\n",
              "    </tr>\n",
              "    <tr>\n",
              "      <th>2</th>\n",
              "      <td>3.0</td>\n",
              "      <td>Charlie</td>\n",
              "      <td>3.0</td>\n",
              "      <td>90.0</td>\n",
              "    </tr>\n",
              "    <tr>\n",
              "      <th>3</th>\n",
              "      <td>NaN</td>\n",
              "      <td>NaN</td>\n",
              "      <td>4.0</td>\n",
              "      <td>78.0</td>\n",
              "    </tr>\n",
              "  </tbody>\n",
              "</table>\n",
              "</div>"
            ],
            "text/plain": [
              "   StudentID     Name  S_ID  Grade\n",
              "0        1.0    Alice   NaN    NaN\n",
              "1        2.0      Bob   2.0   85.0\n",
              "2        3.0  Charlie   3.0   90.0\n",
              "3        NaN      NaN   4.0   78.0"
            ]
          },
          "execution_count": 22,
          "metadata": {},
          "output_type": "execute_result"
        }
      ],
      "source": [
        "pd.merge(student_info, grades_info, left_on ='StudentID', right_on='S_ID', how='outer')"
      ]
    },
    {
      "cell_type": "markdown",
      "id": "6d0b0cd1-d159-4c69-a8a6-c251628d6d24",
      "metadata": {
        "id": "6d0b0cd1-d159-4c69-a8a6-c251628d6d24"
      },
      "source": [
        "Q5. Suppose you have a DataFrame named temperature_data with columns 'Timestamp' and 'Temperature'. How would you filter the data to include only temperatures above 25 degrees Celsius and then sort the results by timestamp?"
      ]
    },
    {
      "cell_type": "code",
      "execution_count": null,
      "id": "5c6e8180-1b00-4dc4-b7ce-ace1fe448911",
      "metadata": {
        "id": "5c6e8180-1b00-4dc4-b7ce-ace1fe448911",
        "outputId": "0e4a5a5b-adfd-4dd6-c523-61b3212ad744",
        "tags": []
      },
      "outputs": [
        {
          "data": {
            "text/html": [
              "<div>\n",
              "<style scoped>\n",
              "    .dataframe tbody tr th:only-of-type {\n",
              "        vertical-align: middle;\n",
              "    }\n",
              "\n",
              "    .dataframe tbody tr th {\n",
              "        vertical-align: top;\n",
              "    }\n",
              "\n",
              "    .dataframe thead th {\n",
              "        text-align: right;\n",
              "    }\n",
              "</style>\n",
              "<table border=\"1\" class=\"dataframe\">\n",
              "  <thead>\n",
              "    <tr style=\"text-align: right;\">\n",
              "      <th></th>\n",
              "      <th>Timestamp</th>\n",
              "      <th>Temperature</th>\n",
              "    </tr>\n",
              "  </thead>\n",
              "  <tbody>\n",
              "    <tr>\n",
              "      <th>0</th>\n",
              "      <td>2023-01-01</td>\n",
              "      <td>28</td>\n",
              "    </tr>\n",
              "    <tr>\n",
              "      <th>1</th>\n",
              "      <td>2023-01-02</td>\n",
              "      <td>26</td>\n",
              "    </tr>\n",
              "    <tr>\n",
              "      <th>2</th>\n",
              "      <td>2023-01-03</td>\n",
              "      <td>30</td>\n",
              "    </tr>\n",
              "  </tbody>\n",
              "</table>\n",
              "</div>"
            ],
            "text/plain": [
              "    Timestamp  Temperature\n",
              "0  2023-01-01           28\n",
              "1  2023-01-02           26\n",
              "2  2023-01-03           30"
            ]
          },
          "execution_count": 24,
          "metadata": {},
          "output_type": "execute_result"
        }
      ],
      "source": [
        "# Sample Data\n",
        "import pandas as pd\n",
        "\n",
        "data = {'Timestamp': ['2023-01-01', '2023-01-02', '2023-01-03'],\n",
        "        'Temperature': [28, 26, 30]}\n",
        "temperature_data = pd.DataFrame(data)\n",
        "\n",
        "temperature_data\n"
      ]
    },
    {
      "cell_type": "code",
      "execution_count": null,
      "id": "1bcfeef0-8408-4c03-9d30-6df61d02b17d",
      "metadata": {
        "id": "1bcfeef0-8408-4c03-9d30-6df61d02b17d",
        "outputId": "83d59500-b2b5-4af0-e066-0224f10e2f78"
      },
      "outputs": [
        {
          "data": {
            "text/plain": [
              "Timestamp      object\n",
              "Temperature     int64\n",
              "dtype: object"
            ]
          },
          "execution_count": 25,
          "metadata": {},
          "output_type": "execute_result"
        }
      ],
      "source": [
        "temperature_data.dtypes"
      ]
    },
    {
      "cell_type": "code",
      "execution_count": null,
      "id": "1567ee9c",
      "metadata": {
        "id": "1567ee9c"
      },
      "outputs": [],
      "source": [
        "temperature_data.Timestamp=pd.to_datetime(temperature_data.Timestamp, format='%Y-%m-%d')"
      ]
    },
    {
      "cell_type": "code",
      "execution_count": null,
      "id": "fbc3c002",
      "metadata": {
        "id": "fbc3c002",
        "outputId": "9ead8ee5-84a4-41bb-ace9-8684c6f46450"
      },
      "outputs": [
        {
          "data": {
            "text/html": [
              "<div>\n",
              "<style scoped>\n",
              "    .dataframe tbody tr th:only-of-type {\n",
              "        vertical-align: middle;\n",
              "    }\n",
              "\n",
              "    .dataframe tbody tr th {\n",
              "        vertical-align: top;\n",
              "    }\n",
              "\n",
              "    .dataframe thead th {\n",
              "        text-align: right;\n",
              "    }\n",
              "</style>\n",
              "<table border=\"1\" class=\"dataframe\">\n",
              "  <thead>\n",
              "    <tr style=\"text-align: right;\">\n",
              "      <th></th>\n",
              "      <th>Timestamp</th>\n",
              "      <th>Temperature</th>\n",
              "    </tr>\n",
              "  </thead>\n",
              "  <tbody>\n",
              "    <tr>\n",
              "      <th>0</th>\n",
              "      <td>2023-01-01</td>\n",
              "      <td>28</td>\n",
              "    </tr>\n",
              "    <tr>\n",
              "      <th>2</th>\n",
              "      <td>2023-01-03</td>\n",
              "      <td>30</td>\n",
              "    </tr>\n",
              "  </tbody>\n",
              "</table>\n",
              "</div>"
            ],
            "text/plain": [
              "   Timestamp  Temperature\n",
              "0 2023-01-01           28\n",
              "2 2023-01-03           30"
            ]
          },
          "execution_count": 48,
          "metadata": {},
          "output_type": "execute_result"
        }
      ],
      "source": [
        "temperature_data[temperature_data.Temperature>26].sort_values(by=['Timestamp'])"
      ]
    },
    {
      "cell_type": "code",
      "execution_count": null,
      "id": "jYDvFiZkrv6M",
      "metadata": {
        "id": "jYDvFiZkrv6M"
      },
      "outputs": [],
      "source": []
    },
    {
      "cell_type": "markdown",
      "id": "fea1f639-d077-4950-ae8f-9e61f8b69efe",
      "metadata": {
        "id": "fea1f639-d077-4950-ae8f-9e61f8b69efe"
      },
      "source": [
        "Q6. Given a DataFrame sales_data with columns 'Product' and 'Revenue', how would you calculate the total revenue for each product and then create a new column 'Revenue_Percentage' representing the percentage of total revenue that each product contributes?"
      ]
    },
    {
      "cell_type": "code",
      "execution_count": null,
      "id": "2f595c41-69b6-4210-9845-2eccda18a499",
      "metadata": {
        "id": "2f595c41-69b6-4210-9845-2eccda18a499",
        "outputId": "547712f4-136c-4b79-8e54-a719fbd542c5",
        "tags": []
      },
      "outputs": [
        {
          "data": {
            "text/html": [
              "<div>\n",
              "<style scoped>\n",
              "    .dataframe tbody tr th:only-of-type {\n",
              "        vertical-align: middle;\n",
              "    }\n",
              "\n",
              "    .dataframe tbody tr th {\n",
              "        vertical-align: top;\n",
              "    }\n",
              "\n",
              "    .dataframe thead th {\n",
              "        text-align: right;\n",
              "    }\n",
              "</style>\n",
              "<table border=\"1\" class=\"dataframe\">\n",
              "  <thead>\n",
              "    <tr style=\"text-align: right;\">\n",
              "      <th></th>\n",
              "      <th>Product</th>\n",
              "      <th>Revenue</th>\n",
              "    </tr>\n",
              "  </thead>\n",
              "  <tbody>\n",
              "    <tr>\n",
              "      <th>0</th>\n",
              "      <td>A</td>\n",
              "      <td>1000</td>\n",
              "    </tr>\n",
              "    <tr>\n",
              "      <th>1</th>\n",
              "      <td>B</td>\n",
              "      <td>1500</td>\n",
              "    </tr>\n",
              "    <tr>\n",
              "      <th>2</th>\n",
              "      <td>C</td>\n",
              "      <td>800</td>\n",
              "    </tr>\n",
              "    <tr>\n",
              "      <th>3</th>\n",
              "      <td>A</td>\n",
              "      <td>1200</td>\n",
              "    </tr>\n",
              "    <tr>\n",
              "      <th>4</th>\n",
              "      <td>B</td>\n",
              "      <td>2000</td>\n",
              "    </tr>\n",
              "  </tbody>\n",
              "</table>\n",
              "</div>"
            ],
            "text/plain": [
              "  Product  Revenue\n",
              "0       A     1000\n",
              "1       B     1500\n",
              "2       C      800\n",
              "3       A     1200\n",
              "4       B     2000"
            ]
          },
          "execution_count": 29,
          "metadata": {},
          "output_type": "execute_result"
        }
      ],
      "source": [
        "# Sample Data\n",
        "import pandas as pd\n",
        "\n",
        "data = {'Product': ['A', 'B', 'C', 'A', 'B'],\n",
        "        'Revenue': [1000, 1500, 800, 1200, 2000]}\n",
        "sales_data = pd.DataFrame(data)\n",
        "\n",
        "sales_data\n",
        "\n",
        "\n"
      ]
    },
    {
      "cell_type": "code",
      "execution_count": null,
      "id": "1e6e0254-6948-4fd2-876c-3a720ab2f033",
      "metadata": {
        "id": "1e6e0254-6948-4fd2-876c-3a720ab2f033"
      },
      "outputs": [],
      "source": [
        "total_sales = sales_data.groupby('Product')['Revenue'].sum()"
      ]
    },
    {
      "cell_type": "code",
      "execution_count": null,
      "id": "4d1fe7fe",
      "metadata": {
        "id": "4d1fe7fe",
        "outputId": "c47c98a3-ff11-468b-c40f-5fbf855118a7"
      },
      "outputs": [
        {
          "data": {
            "text/plain": [
              "Product\n",
              "A    2200\n",
              "B    3500\n",
              "C     800\n",
              "Name: Revenue, dtype: int64"
            ]
          },
          "execution_count": 33,
          "metadata": {},
          "output_type": "execute_result"
        }
      ],
      "source": [
        "total_sales"
      ]
    },
    {
      "cell_type": "code",
      "execution_count": null,
      "id": "8dd2aa20",
      "metadata": {
        "id": "8dd2aa20"
      },
      "outputs": [],
      "source": [
        "tatal_df = pd.DataFrame(total_sales)"
      ]
    },
    {
      "cell_type": "code",
      "execution_count": null,
      "id": "7220f2e2",
      "metadata": {
        "id": "7220f2e2"
      },
      "outputs": [],
      "source": [
        "tatal_df.reset_index(inplace=True)"
      ]
    },
    {
      "cell_type": "code",
      "execution_count": null,
      "id": "9687dfc7",
      "metadata": {
        "id": "9687dfc7"
      },
      "outputs": [],
      "source": [
        "sales_data['Per']= sales_data.Revenue/total_sales"
      ]
    },
    {
      "cell_type": "code",
      "execution_count": null,
      "id": "216cf4f4",
      "metadata": {
        "id": "216cf4f4",
        "outputId": "6e080282-dbb0-4d99-9145-001a6722e7e3"
      },
      "outputs": [
        {
          "data": {
            "text/html": [
              "<div>\n",
              "<style scoped>\n",
              "    .dataframe tbody tr th:only-of-type {\n",
              "        vertical-align: middle;\n",
              "    }\n",
              "\n",
              "    .dataframe tbody tr th {\n",
              "        vertical-align: top;\n",
              "    }\n",
              "\n",
              "    .dataframe thead th {\n",
              "        text-align: right;\n",
              "    }\n",
              "</style>\n",
              "<table border=\"1\" class=\"dataframe\">\n",
              "  <thead>\n",
              "    <tr style=\"text-align: right;\">\n",
              "      <th></th>\n",
              "      <th>Product</th>\n",
              "      <th>Revenue</th>\n",
              "      <th>Per</th>\n",
              "    </tr>\n",
              "  </thead>\n",
              "  <tbody>\n",
              "    <tr>\n",
              "      <th>0</th>\n",
              "      <td>A</td>\n",
              "      <td>1000</td>\n",
              "      <td>NaN</td>\n",
              "    </tr>\n",
              "    <tr>\n",
              "      <th>1</th>\n",
              "      <td>B</td>\n",
              "      <td>1500</td>\n",
              "      <td>NaN</td>\n",
              "    </tr>\n",
              "    <tr>\n",
              "      <th>2</th>\n",
              "      <td>C</td>\n",
              "      <td>800</td>\n",
              "      <td>NaN</td>\n",
              "    </tr>\n",
              "    <tr>\n",
              "      <th>3</th>\n",
              "      <td>A</td>\n",
              "      <td>1200</td>\n",
              "      <td>NaN</td>\n",
              "    </tr>\n",
              "    <tr>\n",
              "      <th>4</th>\n",
              "      <td>B</td>\n",
              "      <td>2000</td>\n",
              "      <td>NaN</td>\n",
              "    </tr>\n",
              "  </tbody>\n",
              "</table>\n",
              "</div>"
            ],
            "text/plain": [
              "  Product  Revenue  Per\n",
              "0       A     1000  NaN\n",
              "1       B     1500  NaN\n",
              "2       C      800  NaN\n",
              "3       A     1200  NaN\n",
              "4       B     2000  NaN"
            ]
          },
          "execution_count": 34,
          "metadata": {},
          "output_type": "execute_result"
        }
      ],
      "source": [
        "sales_data"
      ]
    },
    {
      "cell_type": "code",
      "execution_count": null,
      "id": "zUkSVp-yrv6N",
      "metadata": {
        "id": "zUkSVp-yrv6N",
        "outputId": "759da884-6c2e-41bc-b91d-0f6f9a673afb"
      },
      "outputs": [
        {
          "data": {
            "text/html": [
              "<div>\n",
              "<style scoped>\n",
              "    .dataframe tbody tr th:only-of-type {\n",
              "        vertical-align: middle;\n",
              "    }\n",
              "\n",
              "    .dataframe tbody tr th {\n",
              "        vertical-align: top;\n",
              "    }\n",
              "\n",
              "    .dataframe thead th {\n",
              "        text-align: right;\n",
              "    }\n",
              "</style>\n",
              "<table border=\"1\" class=\"dataframe\">\n",
              "  <thead>\n",
              "    <tr style=\"text-align: right;\">\n",
              "      <th></th>\n",
              "      <th>Product</th>\n",
              "      <th>Revenue_x</th>\n",
              "      <th>Per</th>\n",
              "      <th>Revenue_y</th>\n",
              "    </tr>\n",
              "  </thead>\n",
              "  <tbody>\n",
              "    <tr>\n",
              "      <th>0</th>\n",
              "      <td>A</td>\n",
              "      <td>1000</td>\n",
              "      <td>NaN</td>\n",
              "      <td>2200</td>\n",
              "    </tr>\n",
              "    <tr>\n",
              "      <th>1</th>\n",
              "      <td>A</td>\n",
              "      <td>1200</td>\n",
              "      <td>NaN</td>\n",
              "      <td>2200</td>\n",
              "    </tr>\n",
              "    <tr>\n",
              "      <th>2</th>\n",
              "      <td>B</td>\n",
              "      <td>1500</td>\n",
              "      <td>NaN</td>\n",
              "      <td>3500</td>\n",
              "    </tr>\n",
              "    <tr>\n",
              "      <th>3</th>\n",
              "      <td>B</td>\n",
              "      <td>2000</td>\n",
              "      <td>NaN</td>\n",
              "      <td>3500</td>\n",
              "    </tr>\n",
              "    <tr>\n",
              "      <th>4</th>\n",
              "      <td>C</td>\n",
              "      <td>800</td>\n",
              "      <td>NaN</td>\n",
              "      <td>800</td>\n",
              "    </tr>\n",
              "  </tbody>\n",
              "</table>\n",
              "</div>"
            ],
            "text/plain": [
              "  Product  Revenue_x  Per  Revenue_y\n",
              "0       A       1000  NaN       2200\n",
              "1       A       1200  NaN       2200\n",
              "2       B       1500  NaN       3500\n",
              "3       B       2000  NaN       3500\n",
              "4       C        800  NaN        800"
            ]
          },
          "execution_count": 39,
          "metadata": {},
          "output_type": "execute_result"
        }
      ],
      "source": [
        "pd.merge(sales_data,total_sales, on='Product')"
      ]
    },
    {
      "cell_type": "markdown",
      "id": "f3e89924-adf2-4130-b626-49d06cbd95fb",
      "metadata": {
        "id": "f3e89924-adf2-4130-b626-49d06cbd95fb"
      },
      "source": [
        "Q7. You have a DataFrame named sensor_data with columns 'Timestamp', 'Sensor_A', and 'Sensor_B'. How would you calculate the average readings of both sensors for each day and identify the day with the highest combined average reading?"
      ]
    },
    {
      "cell_type": "code",
      "execution_count": null,
      "id": "26ad1412-9a69-43e7-a48e-6dbf4f0ab62b",
      "metadata": {
        "id": "26ad1412-9a69-43e7-a48e-6dbf4f0ab62b",
        "outputId": "70411d52-4dd7-4f47-ab4b-6ca51bf78531",
        "tags": []
      },
      "outputs": [
        {
          "data": {
            "text/html": [
              "<div>\n",
              "<style scoped>\n",
              "    .dataframe tbody tr th:only-of-type {\n",
              "        vertical-align: middle;\n",
              "    }\n",
              "\n",
              "    .dataframe tbody tr th {\n",
              "        vertical-align: top;\n",
              "    }\n",
              "\n",
              "    .dataframe thead th {\n",
              "        text-align: right;\n",
              "    }\n",
              "</style>\n",
              "<table border=\"1\" class=\"dataframe\">\n",
              "  <thead>\n",
              "    <tr style=\"text-align: right;\">\n",
              "      <th></th>\n",
              "      <th>Timestamp</th>\n",
              "      <th>Sensor_A</th>\n",
              "      <th>Sensor_B</th>\n",
              "    </tr>\n",
              "  </thead>\n",
              "  <tbody>\n",
              "    <tr>\n",
              "      <th>0</th>\n",
              "      <td>2023-01-01</td>\n",
              "      <td>20</td>\n",
              "      <td>15</td>\n",
              "    </tr>\n",
              "    <tr>\n",
              "      <th>1</th>\n",
              "      <td>2023-01-01</td>\n",
              "      <td>25</td>\n",
              "      <td>30</td>\n",
              "    </tr>\n",
              "    <tr>\n",
              "      <th>2</th>\n",
              "      <td>2023-01-02</td>\n",
              "      <td>18</td>\n",
              "      <td>20</td>\n",
              "    </tr>\n",
              "    <tr>\n",
              "      <th>3</th>\n",
              "      <td>2023-01-02</td>\n",
              "      <td>22</td>\n",
              "      <td>25</td>\n",
              "    </tr>\n",
              "  </tbody>\n",
              "</table>\n",
              "</div>"
            ],
            "text/plain": [
              "    Timestamp  Sensor_A  Sensor_B\n",
              "0  2023-01-01        20        15\n",
              "1  2023-01-01        25        30\n",
              "2  2023-01-02        18        20\n",
              "3  2023-01-02        22        25"
            ]
          },
          "execution_count": 41,
          "metadata": {},
          "output_type": "execute_result"
        }
      ],
      "source": [
        "# Sample Data\n",
        "import pandas as pd\n",
        "\n",
        "data = {'Timestamp': ['2023-01-01', '2023-01-01', '2023-01-02', '2023-01-02'],\n",
        "        'Sensor_A': [20, 25, 18, 22],\n",
        "        'Sensor_B': [15, 30, 20, 25]}\n",
        "sensor_data = pd.DataFrame(data)\n",
        "sensor_data"
      ]
    },
    {
      "cell_type": "code",
      "execution_count": null,
      "id": "8e6ecd2a-17b1-4b56-9f35-994fd90ea857",
      "metadata": {
        "id": "8e6ecd2a-17b1-4b56-9f35-994fd90ea857"
      },
      "outputs": [],
      "source": [
        "sensor_avg = sensor_data.groupby('Timestamp').mean()"
      ]
    },
    {
      "cell_type": "code",
      "execution_count": null,
      "id": "d7a0e076",
      "metadata": {
        "id": "d7a0e076",
        "outputId": "13706752-f874-4f13-9a36-0a4fe203723c"
      },
      "outputs": [
        {
          "data": {
            "text/html": [
              "<div>\n",
              "<style scoped>\n",
              "    .dataframe tbody tr th:only-of-type {\n",
              "        vertical-align: middle;\n",
              "    }\n",
              "\n",
              "    .dataframe tbody tr th {\n",
              "        vertical-align: top;\n",
              "    }\n",
              "\n",
              "    .dataframe thead th {\n",
              "        text-align: right;\n",
              "    }\n",
              "</style>\n",
              "<table border=\"1\" class=\"dataframe\">\n",
              "  <thead>\n",
              "    <tr style=\"text-align: right;\">\n",
              "      <th></th>\n",
              "      <th>Sensor_A</th>\n",
              "      <th>Sensor_B</th>\n",
              "    </tr>\n",
              "    <tr>\n",
              "      <th>Timestamp</th>\n",
              "      <th></th>\n",
              "      <th></th>\n",
              "    </tr>\n",
              "  </thead>\n",
              "  <tbody>\n",
              "    <tr>\n",
              "      <th>2023-01-01</th>\n",
              "      <td>22.5</td>\n",
              "      <td>22.5</td>\n",
              "    </tr>\n",
              "    <tr>\n",
              "      <th>2023-01-02</th>\n",
              "      <td>20.0</td>\n",
              "      <td>22.5</td>\n",
              "    </tr>\n",
              "  </tbody>\n",
              "</table>\n",
              "</div>"
            ],
            "text/plain": [
              "            Sensor_A  Sensor_B\n",
              "Timestamp                     \n",
              "2023-01-01      22.5      22.5\n",
              "2023-01-02      20.0      22.5"
            ]
          },
          "execution_count": 44,
          "metadata": {},
          "output_type": "execute_result"
        }
      ],
      "source": [
        "sensor_avg"
      ]
    },
    {
      "cell_type": "code",
      "execution_count": null,
      "id": "a182ced4",
      "metadata": {
        "id": "a182ced4",
        "outputId": "34fdf79c-9e63-4396-f7b3-747d27b5f64e"
      },
      "outputs": [
        {
          "data": {
            "text/plain": [
              "'2023-01-01'"
            ]
          },
          "execution_count": 45,
          "metadata": {},
          "output_type": "execute_result"
        }
      ],
      "source": [
        "sensor_avg.sum(axis=1).idxmax()"
      ]
    },
    {
      "cell_type": "code",
      "execution_count": null,
      "id": "e63588b3",
      "metadata": {
        "id": "e63588b3"
      },
      "outputs": [],
      "source": []
    }
  ],
  "metadata": {
    "colab": {
      "provenance": []
    },
    "kernelspec": {
      "display_name": "Python 3 (ipykernel)",
      "language": "python",
      "name": "python3"
    },
    "language_info": {
      "codemirror_mode": {
        "name": "ipython",
        "version": 3
      },
      "file_extension": ".py",
      "mimetype": "text/x-python",
      "name": "python",
      "nbconvert_exporter": "python",
      "pygments_lexer": "ipython3",
      "version": "3.11.3"
    }
  },
  "nbformat": 4,
  "nbformat_minor": 5
}
